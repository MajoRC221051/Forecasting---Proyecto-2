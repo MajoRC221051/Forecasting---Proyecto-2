{
  "cells": [
    {
      "cell_type": "code",
      "execution_count": null,
      "metadata": {
        "id": "dCNn3uC5lB3l"
      },
      "outputs": [],
      "source": [
        "## Importamos las librerías necesarias\n",
        "\n",
        "import numpy as np\n",
        "import matplotlib.pyplot as plt\n",
        "from scipy.optimize import curve_fit\n",
        "import pandas as pd\n",
        "import statsmodels.api as sm"
      ]
    },
    {
      "cell_type": "code",
      "execution_count": null,
      "metadata": {
        "id": "8saH_OYnlB3m"
      },
      "outputs": [],
      "source": [
        "## En esta celda definimos los parámetros del modelo.\n",
        "\n",
        "total_estampas = 500\n",
        "estampasXsobre = 5\n",
        "repetidas_sobre = False\n",
        "numcorridas = 1000\n",
        "costosobre = 5"
      ]
    },
    {
      "cell_type": "code",
      "execution_count": null,
      "metadata": {
        "id": "lYuwIFRBlB3m"
      },
      "outputs": [],
      "source": [
        "## esta función genera un sobre de estampas\n",
        "\n",
        "def sobre(n):\n",
        "    return np.random.choice(range(1,total_estampas+1),n,replace=repetidas_sobre)"
      ]
    },
    {
      "cell_type": "code",
      "execution_count": null,
      "metadata": {
        "id": "qjwUg9jZlB3m"
      },
      "outputs": [],
      "source": [
        "## Esta función revisa las estampas en un sobre y las tacha de la lista de \"No la tengo\"\n",
        "\n",
        "def tachar(sobre, lista):\n",
        "    for i in sobre:\n",
        "        if i in lista:\n",
        "            lista.remove(i)\n",
        "    return lista"
      ]
    },
    {
      "cell_type": "code",
      "execution_count": null,
      "metadata": {
        "id": "0CMUNAESlB3n"
      },
      "outputs": [],
      "source": [
        "## Esta función retorna la cantidad de estampas repetidas que salen en cada sobre\n",
        "\n",
        "def repetidas(sobre,lista):\n",
        "    return 5 - sum([True for i in sobre if i in lista])"
      ]
    },
    {
      "cell_type": "code",
      "execution_count": null,
      "metadata": {
        "id": "aixRb9CflB3n"
      },
      "outputs": [],
      "source": [
        "## Inicializamos las listas para almacenar los valores de las corridas\n",
        "\n",
        "totsobres = []\n",
        "totrep = []\n",
        "perful = []"
      ]
    },
    {
      "cell_type": "code",
      "execution_count": null,
      "metadata": {
        "id": "MH_BmvmPlB3n"
      },
      "outputs": [],
      "source": [
        "## Esta rutina simula el proceso de ir comprando sobres, abriendolos y tachando las que no tenemos, contando las repetidas\n",
        "## registrando el total de sobres hasta llenar el album y registrar el % de lleno en cada paso.\n",
        "\n",
        "## Esto se simula para un número de corridas (albums) previamente definidos\n",
        "\n",
        "for i in range(numcorridas):\n",
        "    no_la_tengo = list(range(1,total_estampas+1))\n",
        "    sobres = 0\n",
        "    rep = []\n",
        "    porcful = []\n",
        "    faltan = len(no_la_tengo)\n",
        "    while len(no_la_tengo) > 0:\n",
        "        sobres += 1\n",
        "        a = sobre(estampasXsobre)\n",
        "        repet = repetidas(a, no_la_tengo)\n",
        "        rep.append(repet)\n",
        "        no_la_tengo = tachar(a, no_la_tengo)\n",
        "        faltan = faltan - (5 - repet)\n",
        "        porcful.append((total_estampas - faltan)/total_estampas)\n",
        "    totsobres.append(sobres)\n",
        "    totrep.append(rep)\n",
        "    perful.append(porcful)"
      ]
    },
    {
      "cell_type": "code",
      "execution_count": null,
      "metadata": {
        "id": "Fvc2yi5nlB3n"
      },
      "outputs": [],
      "source": [
        "## Para sacar promedios de las n corridas, debemos hacerlo para las corridas que estuvieron por debajo del número mínimo de\n",
        "## sobres que tomó llenar los n álbums.\n",
        "\n",
        "minimo = min(totsobres)\n",
        "repprom = []\n",
        "promlleno = []"
      ]
    },
    {
      "cell_type": "code",
      "execution_count": null,
      "metadata": {
        "id": "pYUIdY7_lB3n"
      },
      "outputs": [],
      "source": [
        "##\n",
        "\n",
        "for i in range(minimo):\n",
        "    total = 0\n",
        "    totlleno = 0\n",
        "    for j in range(numcorridas):\n",
        "        total = total + totrep[j][i]\n",
        "        totlleno = totlleno + perful[j][i]\n",
        "    repprom.append(total/numcorridas)\n",
        "    print\n",
        "    promlleno.append(totlleno/numcorridas)\n",
        "\n",
        "costoalbum = [costosobre*x for x in totsobres]"
      ]
    },
    {
      "cell_type": "code",
      "execution_count": null,
      "metadata": {
        "id": "9y5RN8f6lB3o"
      },
      "outputs": [],
      "source": [
        "## Graficar las repetidas promedio respecto al % de lleno y al número de sobres\n",
        "\n",
        "f = plt.figure(figsize=(15,15))\n",
        "ax1 = f.add_subplot(221)\n",
        "ax2 = f.add_subplot(222)\n",
        "ax3 = f.add_subplot(223)\n",
        "ax4 = f.add_subplot(224)\n",
        "ax1.plot(repprom)\n",
        "ax1.set_xlabel('Num Sobres')\n",
        "ax1.set_ylabel('Repetidas Promedio')\n",
        "ax2.plot(promlleno,repprom)\n",
        "ax2.set_xlabel('Porcentaje Lleno')\n",
        "ax2.set_ylabel('Repetidas Promedio')\n",
        "ax3.hist(totsobres)\n",
        "ax3.set_xlabel('Num Sobres')\n",
        "ax4.hist(costoalbum)\n",
        "ax4.set_xlabel('Costo en Q')"
      ]
    },
    {
      "cell_type": "code",
      "execution_count": null,
      "metadata": {
        "id": "SzOVCFLalB3o"
      },
      "outputs": [],
      "source": [
        "## Definir la función de saturación de Michaelis Menten para modelar el promedio de repetidas con respecto al número de sobres.\n",
        "\n",
        "def MichaelisMenten(x,a,b):\n",
        "    return a*x/(b+x)"
      ]
    },
    {
      "cell_type": "code",
      "execution_count": null,
      "metadata": {
        "id": "0VGIbX_SlB3o"
      },
      "outputs": [],
      "source": [
        "## Realizar el ajuste de los datos a la función Michaelis Menten para obtener un ecuación\n",
        "\n",
        "init_vals = [1,1]\n",
        "y = repprom\n",
        "x = range(1,len(repprom)+1)\n",
        "best_vals, covar = curve_fit(MichaelisMenten,x,y,p0=init_vals)"
      ]
    },
    {
      "cell_type": "code",
      "execution_count": null,
      "metadata": {
        "id": "cC1QEUMIlB3o"
      },
      "outputs": [],
      "source": [
        "## Los parámetros a y b de la ecuacióin\n",
        "\n",
        "best_vals"
      ]
    },
    {
      "cell_type": "code",
      "execution_count": null,
      "metadata": {
        "id": "ZJ0FZHoklB3o"
      },
      "outputs": [],
      "source": [
        "## Convertir los valores de x real a una serie de Pandas\n",
        "\n",
        "xreal = pd.Series(x)"
      ]
    },
    {
      "cell_type": "code",
      "execution_count": null,
      "metadata": {
        "id": "qvNcj6hzlB3p"
      },
      "outputs": [],
      "source": [
        "## Obtener los valores ajustados por medio de la función sobre los valores de x real\n",
        "\n",
        "ajust = MichaelisMenten(xreal, best_vals[0],best_vals[1])"
      ]
    },
    {
      "cell_type": "code",
      "execution_count": null,
      "metadata": {
        "id": "dWv6g8OklB3p"
      },
      "outputs": [],
      "source": [
        "## Plotear el valor real de repetidas promedio y el valor ajustado por medio del modelo matemático\n",
        "\n",
        "plt.rcParams[\"figure.figsize\"] = (12,8)\n",
        "plt.plot(xreal,repprom,color='blue',label='Datos Reales')\n",
        "plt.plot(xreal,ajust, color='red',label='Datos Ajustados')\n",
        "plt.xlabel('# de Sobres')\n",
        "plt.ylabel('Repetidas Promedio')\n",
        "plt.legend()\n",
        "plt.show()"
      ]
    },
    {
      "cell_type": "code",
      "execution_count": null,
      "metadata": {
        "id": "VGgop7YOlB3p"
      },
      "outputs": [],
      "source": [
        "## Realizar un ajuste lineal de las repetidas promedio respecto al % de lleno promedio del album\n",
        "\n",
        "X = pd.Series(promlleno)\n",
        "Y = pd.Series(repprom)\n",
        "X = sm.add_constant(X)"
      ]
    },
    {
      "cell_type": "code",
      "execution_count": null,
      "metadata": {
        "id": "YS5W4-WJlB3p"
      },
      "outputs": [],
      "source": [
        "## Ajustar a la línea recta  Y =  a + bX\n",
        "\n",
        "modeloLin = sm.OLS(Y, X).fit()"
      ]
    },
    {
      "cell_type": "code",
      "execution_count": null,
      "metadata": {
        "id": "50iFDtWtlB3p"
      },
      "outputs": [],
      "source": [
        "## Obtener los valores del modelo para X\n",
        "\n",
        "pred = modeloLin.predict(X)\n",
        "\n",
        "print_modelo = modeloLin.summary()\n",
        "print(print_modelo)"
      ]
    },
    {
      "cell_type": "code",
      "execution_count": null,
      "metadata": {
        "id": "-hA-5Nq8lB3p"
      },
      "outputs": [],
      "source": [
        "## Graficar la línea teórica y real del numero promedio de estampas respecto al % de lleno del album\n",
        "\n",
        "plt.rcParams[\"figure.figsize\"] = (12,8)\n",
        "plt.plot(X[0],Y,color='blue',label='Datos Reales')\n",
        "plt.plot(X[0],pred, color='red',label='Datos Ajustados')\n",
        "plt.xlabel('Porcentaje Lleno')\n",
        "plt.ylabel('Repetidas Promedio')\n",
        "plt.legend()\n",
        "plt.show()"
      ]
    }
  ],
  "metadata": {
    "kernelspec": {
      "display_name": "Python 3 (ipykernel)",
      "language": "python",
      "name": "python3"
    },
    "language_info": {
      "codemirror_mode": {
        "name": "ipython",
        "version": 3
      },
      "file_extension": ".py",
      "mimetype": "text/x-python",
      "name": "python",
      "nbconvert_exporter": "python",
      "pygments_lexer": "ipython3",
      "version": "3.10.5"
    },
    "colab": {
      "provenance": []
    }
  },
  "nbformat": 4,
  "nbformat_minor": 0
}